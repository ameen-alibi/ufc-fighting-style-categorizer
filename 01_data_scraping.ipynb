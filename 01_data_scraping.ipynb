{
 "cells": [
  {
   "cell_type": "markdown",
   "id": "ccf359b2",
   "metadata": {},
   "source": [
    "### Scraping fighters data"
   ]
  },
  {
   "cell_type": "code",
   "execution_count": 2,
   "id": "8bf6c9bd",
   "metadata": {},
   "outputs": [],
   "source": [
    "import requests,bs4"
   ]
  },
  {
   "cell_type": "code",
   "execution_count": 12,
   "id": "3b8d0c7c",
   "metadata": {},
   "outputs": [],
   "source": [
    "BASE_URL = \"http://ufcstats.com/statistics/fighters\""
   ]
  },
  {
   "cell_type": "code",
   "execution_count": 67,
   "id": "746ebfaa",
   "metadata": {},
   "outputs": [],
   "source": [
    "import string\n",
    "\n",
    "# The page is organized by fighters names so I decided to\n",
    "# Loop through different pages using an alphabets list\n",
    "alphabets = list(string.ascii_lowercase)\n",
    "for letter in alphabets:\n",
    "    fighters_DOM_per_letter = requests.get(f\"{BASE_URL}?char={letter}\")\n",
    "    soup = bs4.BeautifulSoup(fighters_DOM_per_letter.text, 'html.parser')\n",
    "    pagination = soup.find('ul', class_='b-statistics__paginate')\n",
    "    n_pages = len(pagination.find_all('li'))\n",
    "\n",
    "    # Initialize the fighters dict\n",
    "    if letter == 'a':\n",
    "        headers = [th.get_text(strip=True) for th in soup.select(\"table thead th\")]\n",
    "        fighters_data = {header: [] for header in headers}\n",
    "    \n",
    "    # Not adding 1 to the number of list items because\n",
    "    # there is a link for \"all\"\n",
    "    for i in range(1, n_pages):\n",
    "        current_page = requests.get(f\"{BASE_URL}?char={letter}&page={i}\")\n",
    "        soup_1 = bs4.BeautifulSoup(current_page.text, 'html.parser')\n",
    "\n",
    "        # Scraping fighters tabular data \n",
    "        for row in soup_1.select(\"table tbody tr\"):\n",
    "            cells = row.find_all('td',class_='b-statistics__table-col')\n",
    "            \n",
    "            if len(cells) == 0 :\n",
    "                continue\n",
    "            \n",
    "            while len(cells) < len(headers):\n",
    "                cells.append(None)\n",
    "            \n",
    "            for header,cell in zip(headers,cells):\n",
    "                if cell:\n",
    "                    fighters_data[header].append(cell.get_text(strip=True))\n",
    "                else :\n",
    "                    fighters_data[header].append(None)"
   ]
  },
  {
   "cell_type": "code",
   "execution_count": 68,
   "id": "78d5dd40",
   "metadata": {},
   "outputs": [],
   "source": [
    "import pandas as pd\n",
    "\n",
    "df = pd.DataFrame(fighters_data)"
   ]
  },
  {
   "cell_type": "code",
   "execution_count": 71,
   "id": "471c9475",
   "metadata": {},
   "outputs": [
    {
     "data": {
      "text/html": [
       "<div>\n",
       "<style scoped>\n",
       "    .dataframe tbody tr th:only-of-type {\n",
       "        vertical-align: middle;\n",
       "    }\n",
       "\n",
       "    .dataframe tbody tr th {\n",
       "        vertical-align: top;\n",
       "    }\n",
       "\n",
       "    .dataframe thead th {\n",
       "        text-align: right;\n",
       "    }\n",
       "</style>\n",
       "<table border=\"1\" class=\"dataframe\">\n",
       "  <thead>\n",
       "    <tr style=\"text-align: right;\">\n",
       "      <th></th>\n",
       "      <th>First</th>\n",
       "      <th>Last</th>\n",
       "      <th>Nickname</th>\n",
       "      <th>Ht.</th>\n",
       "      <th>Wt.</th>\n",
       "      <th>Reach</th>\n",
       "      <th>Stance</th>\n",
       "      <th>W</th>\n",
       "      <th>L</th>\n",
       "      <th>D</th>\n",
       "      <th>Belt</th>\n",
       "    </tr>\n",
       "  </thead>\n",
       "  <tbody>\n",
       "    <tr>\n",
       "      <th>3562</th>\n",
       "      <td>Zhang</td>\n",
       "      <td>Weili</td>\n",
       "      <td>Magnum</td>\n",
       "      <td>5' 4\"</td>\n",
       "      <td>115 lbs.</td>\n",
       "      <td>63.0\"</td>\n",
       "      <td>Switch</td>\n",
       "      <td>26</td>\n",
       "      <td>3</td>\n",
       "      <td>0</td>\n",
       "      <td></td>\n",
       "    </tr>\n",
       "    <tr>\n",
       "      <th>3563</th>\n",
       "      <td>Zhang</td>\n",
       "      <td>Mingyang</td>\n",
       "      <td>Mountain Tiger</td>\n",
       "      <td>6' 2\"</td>\n",
       "      <td>205 lbs.</td>\n",
       "      <td>75.0\"</td>\n",
       "      <td>Orthodox</td>\n",
       "      <td>19</td>\n",
       "      <td>7</td>\n",
       "      <td>0</td>\n",
       "      <td></td>\n",
       "    </tr>\n",
       "    <tr>\n",
       "      <th>3564</th>\n",
       "      <td>Zhang</td>\n",
       "      <td>Qinghe</td>\n",
       "      <td></td>\n",
       "      <td>5' 7\"</td>\n",
       "      <td>135 lbs.</td>\n",
       "      <td>67.0\"</td>\n",
       "      <td>Southpaw</td>\n",
       "      <td>16</td>\n",
       "      <td>8</td>\n",
       "      <td>1</td>\n",
       "      <td></td>\n",
       "    </tr>\n",
       "    <tr>\n",
       "      <th>3565</th>\n",
       "      <td>Zhang</td>\n",
       "      <td>Zhenyang</td>\n",
       "      <td></td>\n",
       "      <td>--</td>\n",
       "      <td>155 lbs.</td>\n",
       "      <td>--</td>\n",
       "      <td></td>\n",
       "      <td>7</td>\n",
       "      <td>2</td>\n",
       "      <td>0</td>\n",
       "      <td></td>\n",
       "    </tr>\n",
       "    <tr>\n",
       "      <th>3566</th>\n",
       "      <td>Daermisi</td>\n",
       "      <td>Zhawupasi</td>\n",
       "      <td></td>\n",
       "      <td>5' 8\"</td>\n",
       "      <td>135 lbs.</td>\n",
       "      <td>68.0\"</td>\n",
       "      <td>Switch</td>\n",
       "      <td>9</td>\n",
       "      <td>2</td>\n",
       "      <td>0</td>\n",
       "      <td></td>\n",
       "    </tr>\n",
       "  </tbody>\n",
       "</table>\n",
       "</div>"
      ],
      "text/plain": [
       "         First       Last        Nickname    Ht.       Wt.  Reach    Stance  \\\n",
       "3562     Zhang      Weili          Magnum  5' 4\"  115 lbs.  63.0\"    Switch   \n",
       "3563     Zhang   Mingyang  Mountain Tiger  6' 2\"  205 lbs.  75.0\"  Orthodox   \n",
       "3564     Zhang     Qinghe                  5' 7\"  135 lbs.  67.0\"  Southpaw   \n",
       "3565     Zhang   Zhenyang                     --  155 lbs.     --             \n",
       "3566  Daermisi  Zhawupasi                  5' 8\"  135 lbs.  68.0\"    Switch   \n",
       "\n",
       "       W  L  D Belt  \n",
       "3562  26  3  0       \n",
       "3563  19  7  0       \n",
       "3564  16  8  1       \n",
       "3565   7  2  0       \n",
       "3566   9  2  0       "
      ]
     },
     "execution_count": 71,
     "metadata": {},
     "output_type": "execute_result"
    }
   ],
   "source": [
    "df.tail()"
   ]
  },
  {
   "cell_type": "markdown",
   "id": "f92e7a45",
   "metadata": {},
   "source": [
    "### Scraping Events Data"
   ]
  },
  {
   "cell_type": "code",
   "execution_count": 76,
   "id": "dc2070c4",
   "metadata": {},
   "outputs": [],
   "source": [
    "BASE_URL = \"http://ufcstats.com/statistics/events/completed?page=all\""
   ]
  },
  {
   "cell_type": "code",
   "execution_count": null,
   "id": "698af598",
   "metadata": {},
   "outputs": [],
   "source": [
    "events_page = requests.get(\"http://ufcstats.com/statistics/events/completed?page=all\")"
   ]
  },
  {
   "cell_type": "code",
   "execution_count": null,
   "id": "69a81786",
   "metadata": {},
   "outputs": [],
   "source": [
    "fights_soup = bs4.BeautifulSoup(events_page.text,'html.parser')\n",
    "\n",
    "# Get table headers\n",
    "events_table_headers = [th.get_text(strip=True) for th in fights_soup.select('table thead th')]\n",
    "# The first header is Name/Date so it is better to split it into separate name & date\n",
    "events_table_headers = events_table_headers[0].split('/')+events_table_headers[1:]\n",
    "events_dict = {header:{} for header in events_table_headers}\n",
    "rows = fights_soup.select('table tbody tr.b-statistics__table-row')\n",
    "# The first element is an empty row  \n",
    "rows.pop(0)\n",
    "rows[0].children\n",
    "\n",
    "# for row in rows :\n",
    "#     event_name = row.children"
   ]
  }
 ],
 "metadata": {
  "kernelspec": {
   "display_name": "web_scraping",
   "language": "python",
   "name": "python3"
  },
  "language_info": {
   "codemirror_mode": {
    "name": "ipython",
    "version": 3
   },
   "file_extension": ".py",
   "mimetype": "text/x-python",
   "name": "python",
   "nbconvert_exporter": "python",
   "pygments_lexer": "ipython3",
   "version": "3.13.5"
  }
 },
 "nbformat": 4,
 "nbformat_minor": 5
}
