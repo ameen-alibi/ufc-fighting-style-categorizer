{
 "cells": [
  {
   "cell_type": "markdown",
   "id": "314167cc",
   "metadata": {},
   "source": [
    "# Data Cleaning"
   ]
  },
  {
   "cell_type": "markdown",
   "id": "dfa98966",
   "metadata": {},
   "source": [
    "### Cleaning Fighters Data"
   ]
  },
  {
   "cell_type": "code",
   "execution_count": 17,
   "id": "a44829e8",
   "metadata": {},
   "outputs": [],
   "source": [
    "import pandas as pd\n",
    "import numpy as np"
   ]
  },
  {
   "cell_type": "code",
   "execution_count": 18,
   "id": "dd47c5a0",
   "metadata": {},
   "outputs": [],
   "source": [
    "fighters_df = pd.read_csv('raw_data/raw_fighters.csv')"
   ]
  },
  {
   "cell_type": "code",
   "execution_count": 19,
   "id": "d0f8d3aa",
   "metadata": {},
   "outputs": [
    {
     "data": {
      "text/html": [
       "<div>\n",
       "<style scoped>\n",
       "    .dataframe tbody tr th:only-of-type {\n",
       "        vertical-align: middle;\n",
       "    }\n",
       "\n",
       "    .dataframe tbody tr th {\n",
       "        vertical-align: top;\n",
       "    }\n",
       "\n",
       "    .dataframe thead th {\n",
       "        text-align: right;\n",
       "    }\n",
       "</style>\n",
       "<table border=\"1\" class=\"dataframe\">\n",
       "  <thead>\n",
       "    <tr style=\"text-align: right;\">\n",
       "      <th></th>\n",
       "      <th>First</th>\n",
       "      <th>Last</th>\n",
       "      <th>Nickname</th>\n",
       "      <th>Ht.</th>\n",
       "      <th>Wt.</th>\n",
       "      <th>Reach</th>\n",
       "      <th>Stance</th>\n",
       "      <th>W</th>\n",
       "      <th>L</th>\n",
       "      <th>D</th>\n",
       "      <th>Belt</th>\n",
       "    </tr>\n",
       "  </thead>\n",
       "  <tbody>\n",
       "    <tr>\n",
       "      <th>0</th>\n",
       "      <td>Tom</td>\n",
       "      <td>Aaron</td>\n",
       "      <td>NaN</td>\n",
       "      <td>--</td>\n",
       "      <td>155 lbs.</td>\n",
       "      <td>--</td>\n",
       "      <td>NaN</td>\n",
       "      <td>5</td>\n",
       "      <td>3</td>\n",
       "      <td>0</td>\n",
       "      <td>NaN</td>\n",
       "    </tr>\n",
       "    <tr>\n",
       "      <th>1</th>\n",
       "      <td>Danny</td>\n",
       "      <td>Abbadi</td>\n",
       "      <td>The Assassin</td>\n",
       "      <td>5' 11\"</td>\n",
       "      <td>155 lbs.</td>\n",
       "      <td>--</td>\n",
       "      <td>Orthodox</td>\n",
       "      <td>4</td>\n",
       "      <td>6</td>\n",
       "      <td>0</td>\n",
       "      <td>NaN</td>\n",
       "    </tr>\n",
       "    <tr>\n",
       "      <th>2</th>\n",
       "      <td>Nariman</td>\n",
       "      <td>Abbasov</td>\n",
       "      <td>Bayraktar</td>\n",
       "      <td>5' 8\"</td>\n",
       "      <td>155 lbs.</td>\n",
       "      <td>66.0\"</td>\n",
       "      <td>Orthodox</td>\n",
       "      <td>28</td>\n",
       "      <td>4</td>\n",
       "      <td>0</td>\n",
       "      <td>NaN</td>\n",
       "    </tr>\n",
       "    <tr>\n",
       "      <th>3</th>\n",
       "      <td>Darion</td>\n",
       "      <td>Abbey</td>\n",
       "      <td>NaN</td>\n",
       "      <td>6' 2\"</td>\n",
       "      <td>265 lbs.</td>\n",
       "      <td>80.0\"</td>\n",
       "      <td>Orthodox</td>\n",
       "      <td>9</td>\n",
       "      <td>5</td>\n",
       "      <td>0</td>\n",
       "      <td>NaN</td>\n",
       "    </tr>\n",
       "    <tr>\n",
       "      <th>4</th>\n",
       "      <td>David</td>\n",
       "      <td>Abbott</td>\n",
       "      <td>Tank</td>\n",
       "      <td>6' 0\"</td>\n",
       "      <td>265 lbs.</td>\n",
       "      <td>--</td>\n",
       "      <td>Switch</td>\n",
       "      <td>10</td>\n",
       "      <td>15</td>\n",
       "      <td>0</td>\n",
       "      <td>NaN</td>\n",
       "    </tr>\n",
       "  </tbody>\n",
       "</table>\n",
       "</div>"
      ],
      "text/plain": [
       "     First     Last      Nickname     Ht.       Wt.  Reach    Stance   W   L  \\\n",
       "0      Tom    Aaron           NaN      --  155 lbs.     --       NaN   5   3   \n",
       "1    Danny   Abbadi  The Assassin  5' 11\"  155 lbs.     --  Orthodox   4   6   \n",
       "2  Nariman  Abbasov     Bayraktar   5' 8\"  155 lbs.  66.0\"  Orthodox  28   4   \n",
       "3   Darion    Abbey           NaN   6' 2\"  265 lbs.  80.0\"  Orthodox   9   5   \n",
       "4    David   Abbott          Tank   6' 0\"  265 lbs.     --    Switch  10  15   \n",
       "\n",
       "   D  Belt  \n",
       "0  0   NaN  \n",
       "1  0   NaN  \n",
       "2  0   NaN  \n",
       "3  0   NaN  \n",
       "4  0   NaN  "
      ]
     },
     "execution_count": 19,
     "metadata": {},
     "output_type": "execute_result"
    }
   ],
   "source": [
    "fighters_df.head()"
   ]
  },
  {
   "cell_type": "code",
   "execution_count": 20,
   "id": "ab8ac47e",
   "metadata": {},
   "outputs": [],
   "source": [
    "def check_types(df):\n",
    "    print(df.dtypes)"
   ]
  },
  {
   "cell_type": "code",
   "execution_count": 21,
   "id": "7a4b15b7",
   "metadata": {},
   "outputs": [
    {
     "name": "stdout",
     "output_type": "stream",
     "text": [
      "First        object\n",
      "Last         object\n",
      "Nickname     object\n",
      "Ht.          object\n",
      "Wt.          object\n",
      "Reach        object\n",
      "Stance       object\n",
      "W             int64\n",
      "L             int64\n",
      "D             int64\n",
      "Belt        float64\n",
      "dtype: object\n"
     ]
    }
   ],
   "source": [
    "check_types(fighters_df)"
   ]
  },
  {
   "cell_type": "code",
   "execution_count": 22,
   "id": "3bed5285",
   "metadata": {},
   "outputs": [],
   "source": [
    "def number_of_values(df):\n",
    "    print(\"================ Number of unique values for each col ================\")\n",
    "    for col in df.columns.tolist():\n",
    "        print(f'{col} : {df[col].nunique()}')\n",
    "    print(\"=\"*70)\n",
    "    \n"
   ]
  },
  {
   "cell_type": "code",
   "execution_count": 23,
   "id": "f906370f",
   "metadata": {},
   "outputs": [
    {
     "name": "stdout",
     "output_type": "stream",
     "text": [
      "================ Number of unique values for each col ================\n",
      "First : 1747\n",
      "Last : 2660\n",
      "Nickname : 1599\n",
      "Ht. : 28\n",
      "Wt. : 106\n",
      "Reach : 28\n",
      "Stance : 5\n",
      "W : 54\n",
      "L : 38\n",
      "D : 12\n",
      "Belt : 0\n",
      "======================================================================\n"
     ]
    }
   ],
   "source": [
    "number_of_values(fighters_df)"
   ]
  },
  {
   "cell_type": "code",
   "execution_count": 24,
   "id": "3284bd7e",
   "metadata": {},
   "outputs": [],
   "source": [
    "# Ht. column\n",
    "def format_height(height=\"\"):\n",
    "    if height == '--':\n",
    "        return np.nan\n",
    "    height = height.rstrip('\"')\n",
    "    height = height.replace(\"' \", \".\")\n",
    "    return height\n",
    "\n",
    "\n",
    "fighters_df['Ht.'] = fighters_df['Ht.'].apply(format_height)\n",
    "fighters_df['Ht.'] = fighters_df['Ht.'].astype('float32')"
   ]
  },
  {
   "cell_type": "code",
   "execution_count": 25,
   "id": "5e377af3",
   "metadata": {},
   "outputs": [],
   "source": [
    "# Wt. column\n",
    "def format_weight(height=\"\"):\n",
    "    if height == '--':\n",
    "        return np.nan\n",
    "    height = height.rstrip(' lbs.')\n",
    "    return height\n",
    "\n",
    "\n",
    "fighters_df['Wt.'] = fighters_df['Wt.'].apply(format_weight)\n",
    "fighters_df['Wt.'] = fighters_df['Wt.'].astype('float32')"
   ]
  },
  {
   "cell_type": "code",
   "execution_count": 26,
   "id": "285de160",
   "metadata": {},
   "outputs": [],
   "source": [
    "# Reach column\n",
    "def format_reach(height=\"\"):\n",
    "    if height == '--':\n",
    "        return np.nan\n",
    "    height = height.rstrip('\"')\n",
    "    return height\n",
    "\n",
    "\n",
    "fighters_df['Reach'] = fighters_df['Reach'].apply(format_reach)\n",
    "fighters_df['Reach'] = fighters_df['Reach'].astype('float32')"
   ]
  },
  {
   "cell_type": "code",
   "execution_count": 27,
   "id": "8bf92f42",
   "metadata": {},
   "outputs": [],
   "source": [
    "# print(len(\"================ Columns having missing values ================\"))\n",
    "def print_missing_values(df):\n",
    "    print(\"================ Columns having missing values ================\")\n",
    "    for col in df.columns.tolist():\n",
    "        if df[col].isna().sum():\n",
    "            print(f'{col} : {df[col].isna().sum()}')\n",
    "    print(\"=\"*64)"
   ]
  },
  {
   "cell_type": "code",
   "execution_count": 28,
   "id": "e421823c",
   "metadata": {},
   "outputs": [
    {
     "name": "stdout",
     "output_type": "stream",
     "text": [
      "================ Columns having missing values ================\n",
      "First : 11\n",
      "Nickname : 1590\n",
      "Ht. : 315\n",
      "Wt. : 74\n",
      "Reach : 1618\n",
      "Stance : 734\n",
      "Belt : 3567\n",
      "================================================================\n"
     ]
    }
   ],
   "source": [
    "print_missing_values(fighters_df)"
   ]
  },
  {
   "cell_type": "code",
   "execution_count": 29,
   "id": "2ed9d40a",
   "metadata": {},
   "outputs": [],
   "source": [
    "# Making stance column categorical\n",
    "fighters_df['Stance'] = fighters_df['Stance'].astype('category')"
   ]
  },
  {
   "cell_type": "code",
   "execution_count": 30,
   "id": "edf0817f",
   "metadata": {},
   "outputs": [],
   "source": [
    "# W - L - D can not be so big.\n",
    "# It is better to make them only 32-bits\n",
    "for col in ['W','L','D'] : \n",
    "    fighters_df[col] = fighters_df[col].astype('int32')"
   ]
  },
  {
   "cell_type": "code",
   "execution_count": 31,
   "id": "c7ad2988",
   "metadata": {},
   "outputs": [
    {
     "data": {
      "text/html": [
       "<div>\n",
       "<style scoped>\n",
       "    .dataframe tbody tr th:only-of-type {\n",
       "        vertical-align: middle;\n",
       "    }\n",
       "\n",
       "    .dataframe tbody tr th {\n",
       "        vertical-align: top;\n",
       "    }\n",
       "\n",
       "    .dataframe thead th {\n",
       "        text-align: right;\n",
       "    }\n",
       "</style>\n",
       "<table border=\"1\" class=\"dataframe\">\n",
       "  <thead>\n",
       "    <tr style=\"text-align: right;\">\n",
       "      <th></th>\n",
       "      <th>First</th>\n",
       "      <th>Last</th>\n",
       "      <th>Nickname</th>\n",
       "      <th>Ht.</th>\n",
       "      <th>Wt.</th>\n",
       "      <th>Reach</th>\n",
       "      <th>Stance</th>\n",
       "      <th>W</th>\n",
       "      <th>L</th>\n",
       "      <th>D</th>\n",
       "      <th>Belt</th>\n",
       "    </tr>\n",
       "  </thead>\n",
       "  <tbody>\n",
       "    <tr>\n",
       "      <th>0</th>\n",
       "      <td>Tom</td>\n",
       "      <td>Aaron</td>\n",
       "      <td>NaN</td>\n",
       "      <td>NaN</td>\n",
       "      <td>155.0</td>\n",
       "      <td>NaN</td>\n",
       "      <td>NaN</td>\n",
       "      <td>5</td>\n",
       "      <td>3</td>\n",
       "      <td>0</td>\n",
       "      <td>NaN</td>\n",
       "    </tr>\n",
       "    <tr>\n",
       "      <th>1</th>\n",
       "      <td>Danny</td>\n",
       "      <td>Abbadi</td>\n",
       "      <td>The Assassin</td>\n",
       "      <td>5.11</td>\n",
       "      <td>155.0</td>\n",
       "      <td>NaN</td>\n",
       "      <td>Orthodox</td>\n",
       "      <td>4</td>\n",
       "      <td>6</td>\n",
       "      <td>0</td>\n",
       "      <td>NaN</td>\n",
       "    </tr>\n",
       "    <tr>\n",
       "      <th>2</th>\n",
       "      <td>Nariman</td>\n",
       "      <td>Abbasov</td>\n",
       "      <td>Bayraktar</td>\n",
       "      <td>5.80</td>\n",
       "      <td>155.0</td>\n",
       "      <td>66.0</td>\n",
       "      <td>Orthodox</td>\n",
       "      <td>28</td>\n",
       "      <td>4</td>\n",
       "      <td>0</td>\n",
       "      <td>NaN</td>\n",
       "    </tr>\n",
       "    <tr>\n",
       "      <th>3</th>\n",
       "      <td>Darion</td>\n",
       "      <td>Abbey</td>\n",
       "      <td>NaN</td>\n",
       "      <td>6.20</td>\n",
       "      <td>265.0</td>\n",
       "      <td>80.0</td>\n",
       "      <td>Orthodox</td>\n",
       "      <td>9</td>\n",
       "      <td>5</td>\n",
       "      <td>0</td>\n",
       "      <td>NaN</td>\n",
       "    </tr>\n",
       "    <tr>\n",
       "      <th>4</th>\n",
       "      <td>David</td>\n",
       "      <td>Abbott</td>\n",
       "      <td>Tank</td>\n",
       "      <td>6.00</td>\n",
       "      <td>265.0</td>\n",
       "      <td>NaN</td>\n",
       "      <td>Switch</td>\n",
       "      <td>10</td>\n",
       "      <td>15</td>\n",
       "      <td>0</td>\n",
       "      <td>NaN</td>\n",
       "    </tr>\n",
       "  </tbody>\n",
       "</table>\n",
       "</div>"
      ],
      "text/plain": [
       "     First     Last      Nickname   Ht.    Wt.  Reach    Stance   W   L  D  \\\n",
       "0      Tom    Aaron           NaN   NaN  155.0    NaN       NaN   5   3  0   \n",
       "1    Danny   Abbadi  The Assassin  5.11  155.0    NaN  Orthodox   4   6  0   \n",
       "2  Nariman  Abbasov     Bayraktar  5.80  155.0   66.0  Orthodox  28   4  0   \n",
       "3   Darion    Abbey           NaN  6.20  265.0   80.0  Orthodox   9   5  0   \n",
       "4    David   Abbott          Tank  6.00  265.0    NaN    Switch  10  15  0   \n",
       "\n",
       "   Belt  \n",
       "0   NaN  \n",
       "1   NaN  \n",
       "2   NaN  \n",
       "3   NaN  \n",
       "4   NaN  "
      ]
     },
     "execution_count": 31,
     "metadata": {},
     "output_type": "execute_result"
    }
   ],
   "source": [
    "fighters_df.head()"
   ]
  },
  {
   "cell_type": "markdown",
   "id": "bc9f0b2a",
   "metadata": {},
   "source": [
    "I think this is enough for cleaning fighters data"
   ]
  },
  {
   "cell_type": "code",
   "execution_count": 32,
   "id": "7f53cc21",
   "metadata": {},
   "outputs": [],
   "source": [
    "fighters_df.to_csv('data/Fighters.csv')"
   ]
  },
  {
   "cell_type": "markdown",
   "id": "dd77db98",
   "metadata": {},
   "source": [
    "### CLeaning Events Data\n"
   ]
  },
  {
   "cell_type": "code",
   "execution_count": 33,
   "id": "eb4eb717",
   "metadata": {},
   "outputs": [
    {
     "data": {
      "text/html": [
       "<div>\n",
       "<style scoped>\n",
       "    .dataframe tbody tr th:only-of-type {\n",
       "        vertical-align: middle;\n",
       "    }\n",
       "\n",
       "    .dataframe tbody tr th {\n",
       "        vertical-align: top;\n",
       "    }\n",
       "\n",
       "    .dataframe thead th {\n",
       "        text-align: right;\n",
       "    }\n",
       "</style>\n",
       "<table border=\"1\" class=\"dataframe\">\n",
       "  <thead>\n",
       "    <tr style=\"text-align: right;\">\n",
       "      <th></th>\n",
       "      <th>Event_Id</th>\n",
       "      <th>Name</th>\n",
       "      <th>Date</th>\n",
       "      <th>Location</th>\n",
       "    </tr>\n",
       "  </thead>\n",
       "  <tbody>\n",
       "    <tr>\n",
       "      <th>0</th>\n",
       "      <td>754968e325d6f60d</td>\n",
       "      <td>UFC Fight Night: Walker vs. Zhang</td>\n",
       "      <td>August 23, 2025</td>\n",
       "      <td>Shanghai, Hebei, China</td>\n",
       "    </tr>\n",
       "    <tr>\n",
       "      <th>1</th>\n",
       "      <td>421ccfc6ddb17958</td>\n",
       "      <td>UFC 319: Du Plessis vs. Chimaev</td>\n",
       "      <td>August 16, 2025</td>\n",
       "      <td>Chicago, Illinois, USA</td>\n",
       "    </tr>\n",
       "    <tr>\n",
       "      <th>2</th>\n",
       "      <td>6cd3dfc54f01287f</td>\n",
       "      <td>UFC Fight Night: Dolidze vs. Hernandez</td>\n",
       "      <td>August 09, 2025</td>\n",
       "      <td>Las Vegas, Nevada, USA</td>\n",
       "    </tr>\n",
       "    <tr>\n",
       "      <th>3</th>\n",
       "      <td>f2c934689243fe4e</td>\n",
       "      <td>UFC Fight Night: Taira vs. Park</td>\n",
       "      <td>August 02, 2025</td>\n",
       "      <td>Las Vegas, Nevada, USA</td>\n",
       "    </tr>\n",
       "    <tr>\n",
       "      <th>4</th>\n",
       "      <td>28d8638ea0a71908</td>\n",
       "      <td>UFC Fight Night: Whittaker vs. De Ridder</td>\n",
       "      <td>July 26, 2025</td>\n",
       "      <td>Abu Dhabi, Abu Dhabi, United Arab Emirates</td>\n",
       "    </tr>\n",
       "  </tbody>\n",
       "</table>\n",
       "</div>"
      ],
      "text/plain": [
       "           Event_Id                                      Name  \\\n",
       "0  754968e325d6f60d         UFC Fight Night: Walker vs. Zhang   \n",
       "1  421ccfc6ddb17958           UFC 319: Du Plessis vs. Chimaev   \n",
       "2  6cd3dfc54f01287f    UFC Fight Night: Dolidze vs. Hernandez   \n",
       "3  f2c934689243fe4e           UFC Fight Night: Taira vs. Park   \n",
       "4  28d8638ea0a71908  UFC Fight Night: Whittaker vs. De Ridder   \n",
       "\n",
       "              Date                                    Location  \n",
       "0  August 23, 2025                      Shanghai, Hebei, China  \n",
       "1  August 16, 2025                      Chicago, Illinois, USA  \n",
       "2  August 09, 2025                      Las Vegas, Nevada, USA  \n",
       "3  August 02, 2025                      Las Vegas, Nevada, USA  \n",
       "4    July 26, 2025  Abu Dhabi, Abu Dhabi, United Arab Emirates  "
      ]
     },
     "execution_count": 33,
     "metadata": {},
     "output_type": "execute_result"
    }
   ],
   "source": [
    "events_df = pd.read_csv('raw_data/raw_events.csv')\n",
    "events_df.head()"
   ]
  },
  {
   "cell_type": "code",
   "execution_count": 34,
   "id": "cdf10206",
   "metadata": {},
   "outputs": [
    {
     "name": "stdout",
     "output_type": "stream",
     "text": [
      "Event_Id    object\n",
      "Name        object\n",
      "Date        object\n",
      "Location    object\n",
      "dtype: object\n"
     ]
    }
   ],
   "source": [
    "check_types(events_df)"
   ]
  },
  {
   "cell_type": "code",
   "execution_count": 35,
   "id": "020850a1",
   "metadata": {},
   "outputs": [
    {
     "name": "stdout",
     "output_type": "stream",
     "text": [
      "================ Columns having missing values ================\n",
      "================================================================\n"
     ]
    }
   ],
   "source": [
    "print_missing_values(events_df)"
   ]
  },
  {
   "cell_type": "markdown",
   "id": "11b9dd52",
   "metadata": {},
   "source": [
    "! Perfect"
   ]
  },
  {
   "cell_type": "code",
   "execution_count": 36,
   "id": "003e47c6",
   "metadata": {},
   "outputs": [
    {
     "data": {
      "text/html": [
       "<div>\n",
       "<style scoped>\n",
       "    .dataframe tbody tr th:only-of-type {\n",
       "        vertical-align: middle;\n",
       "    }\n",
       "\n",
       "    .dataframe tbody tr th {\n",
       "        vertical-align: top;\n",
       "    }\n",
       "\n",
       "    .dataframe thead th {\n",
       "        text-align: right;\n",
       "    }\n",
       "</style>\n",
       "<table border=\"1\" class=\"dataframe\">\n",
       "  <thead>\n",
       "    <tr style=\"text-align: right;\">\n",
       "      <th></th>\n",
       "      <th>Event_Id</th>\n",
       "      <th>Name</th>\n",
       "      <th>Date</th>\n",
       "      <th>Location</th>\n",
       "    </tr>\n",
       "  </thead>\n",
       "  <tbody>\n",
       "    <tr>\n",
       "      <th>0</th>\n",
       "      <td>754968e325d6f60d</td>\n",
       "      <td>UFC Fight Night: Walker vs. Zhang</td>\n",
       "      <td>2025-08-23</td>\n",
       "      <td>Shanghai, Hebei, China</td>\n",
       "    </tr>\n",
       "    <tr>\n",
       "      <th>1</th>\n",
       "      <td>421ccfc6ddb17958</td>\n",
       "      <td>UFC 319: Du Plessis vs. Chimaev</td>\n",
       "      <td>2025-08-16</td>\n",
       "      <td>Chicago, Illinois, USA</td>\n",
       "    </tr>\n",
       "    <tr>\n",
       "      <th>2</th>\n",
       "      <td>6cd3dfc54f01287f</td>\n",
       "      <td>UFC Fight Night: Dolidze vs. Hernandez</td>\n",
       "      <td>2025-08-09</td>\n",
       "      <td>Las Vegas, Nevada, USA</td>\n",
       "    </tr>\n",
       "    <tr>\n",
       "      <th>3</th>\n",
       "      <td>f2c934689243fe4e</td>\n",
       "      <td>UFC Fight Night: Taira vs. Park</td>\n",
       "      <td>2025-08-02</td>\n",
       "      <td>Las Vegas, Nevada, USA</td>\n",
       "    </tr>\n",
       "    <tr>\n",
       "      <th>4</th>\n",
       "      <td>28d8638ea0a71908</td>\n",
       "      <td>UFC Fight Night: Whittaker vs. De Ridder</td>\n",
       "      <td>2025-07-26</td>\n",
       "      <td>Abu Dhabi, Abu Dhabi, United Arab Emirates</td>\n",
       "    </tr>\n",
       "  </tbody>\n",
       "</table>\n",
       "</div>"
      ],
      "text/plain": [
       "           Event_Id                                      Name       Date  \\\n",
       "0  754968e325d6f60d         UFC Fight Night: Walker vs. Zhang 2025-08-23   \n",
       "1  421ccfc6ddb17958           UFC 319: Du Plessis vs. Chimaev 2025-08-16   \n",
       "2  6cd3dfc54f01287f    UFC Fight Night: Dolidze vs. Hernandez 2025-08-09   \n",
       "3  f2c934689243fe4e           UFC Fight Night: Taira vs. Park 2025-08-02   \n",
       "4  28d8638ea0a71908  UFC Fight Night: Whittaker vs. De Ridder 2025-07-26   \n",
       "\n",
       "                                     Location  \n",
       "0                      Shanghai, Hebei, China  \n",
       "1                      Chicago, Illinois, USA  \n",
       "2                      Las Vegas, Nevada, USA  \n",
       "3                      Las Vegas, Nevada, USA  \n",
       "4  Abu Dhabi, Abu Dhabi, United Arab Emirates  "
      ]
     },
     "execution_count": 36,
     "metadata": {},
     "output_type": "execute_result"
    }
   ],
   "source": [
    "events_df['Date'] = pd.to_datetime(events_df['Date'], format=\"%B %d, %Y\")\n",
    "events_df.head()"
   ]
  },
  {
   "cell_type": "code",
   "execution_count": 37,
   "id": "ddc93731",
   "metadata": {},
   "outputs": [],
   "source": [
    "events_df.to_csv('data/Events.csv')"
   ]
  },
  {
   "cell_type": "markdown",
   "id": "c827ea67",
   "metadata": {},
   "source": [
    "Now let's get to the largest dataframe :) "
   ]
  },
  {
   "cell_type": "markdown",
   "id": "35f2f5f6",
   "metadata": {},
   "source": [
    "### Cleaning Fights Data"
   ]
  },
  {
   "cell_type": "code",
   "execution_count": 272,
   "id": "01ac4f17",
   "metadata": {},
   "outputs": [],
   "source": [
    "fights_df = pd.read_csv('raw_data/raw_fights_detailed.csv').set_index('Fight_Id')"
   ]
  },
  {
   "cell_type": "code",
   "execution_count": 262,
   "id": "b05cc7aa",
   "metadata": {},
   "outputs": [
    {
     "name": "stdout",
     "output_type": "stream",
     "text": [
      "Win/No Contest/Draw     object\n",
      "Fighter_1               object\n",
      "Fighter_2               object\n",
      "KD_1                    object\n",
      "KD_2                    object\n",
      "STR_1                   object\n",
      "STR_2                   object\n",
      "TD_1                    object\n",
      "TD_2                    object\n",
      "SUB_1                   object\n",
      "SUB_2                   object\n",
      "Weight_Class            object\n",
      "Method                  object\n",
      "Round                    int64\n",
      "Fight_Time              object\n",
      "Event_Id_x              object\n",
      "Result_1                object\n",
      "Result_2                object\n",
      "Time Format             object\n",
      "Referee                 object\n",
      "Method Details          object\n",
      "Kd_1                   float64\n",
      "Kd_2                   float64\n",
      "Sig. Str._1             object\n",
      "Sig. Str._2             object\n",
      "Sig. Str. %_1           object\n",
      "Sig. Str. %_2           object\n",
      "Total Str._1            object\n",
      "Total Str._2            object\n",
      "Td_1                    object\n",
      "Td_2                    object\n",
      "Td %_1                  object\n",
      "Td %_2                  object\n",
      "Sub. Att_1             float64\n",
      "Sub. Att_2             float64\n",
      "Rev._1                 float64\n",
      "Rev._2                 float64\n",
      "Ctrl_1                  object\n",
      "Ctrl_2                  object\n",
      "Head_1                  object\n",
      "Head_2                  object\n",
      "Body_1                  object\n",
      "Body_2                  object\n",
      "Leg_1                   object\n",
      "Leg_2                   object\n",
      "Distance_1              object\n",
      "Distance_2              object\n",
      "Clinch_1                object\n",
      "Clinch_2                object\n",
      "Ground_1                object\n",
      "Ground_2                object\n",
      "Event_Id_y              object\n",
      "dtype: object\n"
     ]
    }
   ],
   "source": [
    "check_types(fights_df)"
   ]
  },
  {
   "cell_type": "markdown",
   "id": "9468d62e",
   "metadata": {},
   "source": [
    "--> All columns are objects"
   ]
  },
  {
   "cell_type": "code",
   "execution_count": 263,
   "id": "fd0ab234",
   "metadata": {},
   "outputs": [],
   "source": [
    "def values_count(df):\n",
    "    for col in df.columns.tolist():\n",
    "        yield col, df[col].value_counts(dropna=False)\n",
    "\n",
    "# usage:\n",
    "# gen = unique_values(fights_df)\n",
    "# next(gen)  # returns (column_name, value_counts_series) for the next column"
   ]
  },
  {
   "cell_type": "code",
   "execution_count": 264,
   "id": "3cd97502",
   "metadata": {},
   "outputs": [],
   "source": [
    "cols = values_count(fights_df)"
   ]
  },
  {
   "cell_type": "markdown",
   "id": "5db8affd",
   "metadata": {},
   "source": [
    "I am going to do this for the rest of columns"
   ]
  },
  {
   "cell_type": "code",
   "execution_count": null,
   "id": "ecc09e06",
   "metadata": {},
   "outputs": [],
   "source": [
    "\n",
    "def clean_missing_fight_detail(col):\n",
    "    fights_df[col] = (fights_df[col]\n",
    "                      .replace('--', pd.NA)\n",
    "                      .astype('Int32'))\n",
    "\n",
    "\n",
    "def make_categorical(col):\n",
    "    fights_df[col] = fights_df[col].astype('category')\n",
    "\n",
    "\n",
    "def calculate_pct(pct):\n",
    "    if pd.isna(pct) or pct == '---':\n",
    "        return pd.NA\n",
    "    pct = pct.rstrip('%')\n",
    "    return int(pct)/100\n",
    "\n",
    "\n",
    "def parse_seconds_from_time(time):\n",
    "    if pd.isna(time) or time == '--':\n",
    "        return pd.NA\n",
    "    minutes, seconds = time.split(':')\n",
    "    return int(minutes) * 60 + int(seconds)\n",
    "\n",
    "\n",
    "def of_to_pct(exp):\n",
    "    if pd.isna(exp):\n",
    "        return pd.NA\n",
    "    if exp == '0 of 0':\n",
    "        return 0\n",
    "\n",
    "    x, y = exp.split('of')\n",
    "    x, y = int(x), int(y)\n",
    "    try:\n",
    "        return round(x/y, 2)\n",
    "    except ZeroDivisionError:\n",
    "        return 0\n",
    "\n",
    "\n",
    "def remove_quotation(s):\n",
    "    if s.startswith(\"'\"):\n",
    "        return s.strip(\"'\")\n",
    "    else:\n",
    "        return s.strip('\"')"
   ]
  },
  {
   "cell_type": "code",
   "execution_count": 266,
   "id": "cfcbed83",
   "metadata": {},
   "outputs": [],
   "source": [
    "def clean_fights_df():\n",
    "    \n",
    "    clean_missing_fight_detail('KD_1')\n",
    "    clean_missing_fight_detail('KD_2')\n",
    "    clean_missing_fight_detail('STR_1')\n",
    "    clean_missing_fight_detail('STR_2')\n",
    "    clean_missing_fight_detail('TD_1')\n",
    "    clean_missing_fight_detail('TD_2')\n",
    "    clean_missing_fight_detail('SUB_1')\n",
    "    clean_missing_fight_detail('SUB_2')\n",
    "\n",
    "    make_categorical('Weight_Class')\n",
    "    make_categorical('Result_1')\n",
    "    make_categorical('Result_2')\n",
    "\n",
    "    fights_df['Round'] = fights_df['Round'].astype('int8')\n",
    "    \n",
    "    fights_df.rename(columns={'Event_Id_x' : 'Event_Id'}, inplace=True)\n",
    "    \n",
    "    redundant_cols = ['Kd_1', 'Kd_2', 'Td_1',\n",
    "                      'Td_2', 'Win/No Contest/Draw', 'Event_Id_y']\n",
    "    fights_df.drop(columns=redundant_cols, inplace=True)\n",
    "\n",
    "    pct_cols = ['Sig. Str. %', 'Td %']\n",
    "    for col in pct_cols:\n",
    "        fights_df[f'{col}_1'] = fights_df[f'{col}_1'].apply(calculate_pct)\n",
    "        fights_df[f'{col}_2'] = fights_df[f'{col}_2'].apply(calculate_pct)\n",
    "    # Cols that are in this form : x of y    \n",
    "    of_cols = ['Head_','Body_','Leg_','Distance_','Clinch_','Ground_','Total Str._']\n",
    "    # This data is supposed to be already scraped\n",
    "    # But I did not scrape it to do it myself (faster)\n",
    "    for col in of_cols :\n",
    "        fights_df[f\"{col}%_1\"] = fights_df[f\"{col}1\"].apply(of_to_pct)\n",
    "        fights_df[f\"{col}%_2\"] = fights_df[f\"{col}2\"].apply(of_to_pct)\n",
    "        fights_df.drop(columns=[f\"{col}1\",f\"{col}2\"],inplace=True)\n",
    "\n",
    "    fights_df['Weight_Class'] = fights_df['Weight_Class'].apply(remove_quotation)\n",
    "    fights_df['Method'] = fights_df['Method'].apply(remove_quotation)\n",
    "    fights_df['Fight_Time'] = fights_df['Fight_Time'].apply(remove_quotation)\n",
    "\n",
    "    fights_df['Sub. Att_1'] = fights_df['Sub. Att_1'].astype('Int8')\n",
    "    fights_df['Sub. Att_2'] = fights_df['Sub. Att_2'].astype('Int8')\n",
    "    fights_df['Rev._1'] = fights_df['Rev._1'].astype('Int8')\n",
    "    fights_df['Rev._2'] = fights_df['Rev._2'].astype('Int8')\n",
    "\n",
    "    fights_df['Ctrl_1'] = fights_df['Ctrl_1'].apply(parse_seconds_from_time).astype('Int32')\n",
    "    fights_df['Ctrl_2'] = fights_df['Ctrl_2'].apply(parse_seconds_from_time).astype('Int32')\n",
    "    \n",
    "    fights_df['Method Details'].fillna(\"No fight details provided\",inplace=True)\n",
    "    fights_df['Referee'].fillna(\"Uknown referee\",inplace=True)\n",
    "    \n",
    "    fights_df.dropna(subset=['KD_1'], inplace=True)\n",
    "    # I already have a takedowns column + 37% of the data missing is too much to be imputed\n",
    "    fights_df.drop(columns=['Td %_1','Td %_2'],inplace=True)\n",
    "    "
   ]
  },
  {
   "cell_type": "code",
   "execution_count": 267,
   "id": "c5bbb6a9",
   "metadata": {},
   "outputs": [
    {
     "name": "stderr",
     "output_type": "stream",
     "text": [
      "C:\\Users\\3libi\\AppData\\Local\\Temp\\ipykernel_8324\\2359443145.py:49: FutureWarning: A value is trying to be set on a copy of a DataFrame or Series through chained assignment using an inplace method.\n",
      "The behavior will change in pandas 3.0. This inplace method will never work because the intermediate object on which we are setting values always behaves as a copy.\n",
      "\n",
      "For example, when doing 'df[col].method(value, inplace=True)', try using 'df.method({col: value}, inplace=True)' or df[col] = df[col].method(value) instead, to perform the operation inplace on the original object.\n",
      "\n",
      "\n",
      "  fights_df['Method Details'].fillna(\"No fight details provided\",inplace=True)\n",
      "C:\\Users\\3libi\\AppData\\Local\\Temp\\ipykernel_8324\\2359443145.py:50: FutureWarning: A value is trying to be set on a copy of a DataFrame or Series through chained assignment using an inplace method.\n",
      "The behavior will change in pandas 3.0. This inplace method will never work because the intermediate object on which we are setting values always behaves as a copy.\n",
      "\n",
      "For example, when doing 'df[col].method(value, inplace=True)', try using 'df.method({col: value}, inplace=True)' or df[col] = df[col].method(value) instead, to perform the operation inplace on the original object.\n",
      "\n",
      "\n",
      "  fights_df['Referee'].fillna(\"Uknown referee\",inplace=True)\n"
     ]
    }
   ],
   "source": [
    "clean_fights_df()"
   ]
  },
  {
   "cell_type": "code",
   "execution_count": 268,
   "id": "1ac9e071",
   "metadata": {},
   "outputs": [
    {
     "data": {
      "text/plain": [
       "Index(['Fighter_1', 'Fighter_2', 'KD_1', 'KD_2', 'STR_1', 'STR_2', 'TD_1',\n",
       "       'TD_2', 'SUB_1', 'SUB_2', 'Weight_Class', 'Method', 'Round',\n",
       "       'Fight_Time', 'Event_Id', 'Result_1', 'Result_2', 'Time Format',\n",
       "       'Referee', 'Method Details', 'Sig. Str._1', 'Sig. Str._2',\n",
       "       'Sig. Str. %_1', 'Sig. Str. %_2', 'Sub. Att_1', 'Sub. Att_2', 'Rev._1',\n",
       "       'Rev._2', 'Ctrl_1', 'Ctrl_2', 'Head_%_1', 'Head_%_2', 'Body_%_1',\n",
       "       'Body_%_2', 'Leg_%_1', 'Leg_%_2', 'Distance_%_1', 'Distance_%_2',\n",
       "       'Clinch_%_1', 'Clinch_%_2', 'Ground_%_1', 'Ground_%_2',\n",
       "       'Total Str._%_1', 'Total Str._%_2'],\n",
       "      dtype='object')"
      ]
     },
     "execution_count": 268,
     "metadata": {},
     "output_type": "execute_result"
    }
   ],
   "source": [
    "fights_df.columns"
   ]
  },
  {
   "cell_type": "code",
   "execution_count": 269,
   "id": "90b87f27",
   "metadata": {},
   "outputs": [
    {
     "data": {
      "text/plain": [
       "np.int64(0)"
      ]
     },
     "execution_count": 269,
     "metadata": {},
     "output_type": "execute_result"
    }
   ],
   "source": [
    "(fights_df['Sig. Str._1'].isna()).sum()"
   ]
  },
  {
   "cell_type": "code",
   "execution_count": 270,
   "id": "4f5e21f0",
   "metadata": {},
   "outputs": [
    {
     "name": "stdout",
     "output_type": "stream",
     "text": [
      "================ Columns having missing values ================\n",
      "Sig. Str. %_1 : 38\n",
      "Sig. Str. %_2 : 58\n",
      "Ctrl_1 : 181\n",
      "Ctrl_2 : 181\n",
      "================================================================\n"
     ]
    }
   ],
   "source": [
    "print_missing_values(fights_df)"
   ]
  },
  {
   "cell_type": "markdown",
   "id": "f65db3ae",
   "metadata": {},
   "source": [
    "L missing data li mezelt maadch fiha hatta 7all ken IMPUTATION "
   ]
  }
 ],
 "metadata": {
  "kernelspec": {
   "display_name": "PE-classifier",
   "language": "python",
   "name": "python3"
  },
  "language_info": {
   "codemirror_mode": {
    "name": "ipython",
    "version": 3
   },
   "file_extension": ".py",
   "mimetype": "text/x-python",
   "name": "python",
   "nbconvert_exporter": "python",
   "pygments_lexer": "ipython3",
   "version": "3.13.5"
  }
 },
 "nbformat": 4,
 "nbformat_minor": 5
}
