{
 "cells": [
  {
   "cell_type": "markdown",
   "id": "dfa98966",
   "metadata": {},
   "source": [
    "### Cleaning Fighters Data"
   ]
  },
  {
   "cell_type": "code",
   "execution_count": 17,
   "id": "a44829e8",
   "metadata": {},
   "outputs": [],
   "source": [
    "import pandas as pd\n",
    "import numpy as np"
   ]
  },
  {
   "cell_type": "code",
   "execution_count": 18,
   "id": "dd47c5a0",
   "metadata": {},
   "outputs": [],
   "source": [
    "fighters_df = pd.read_csv('data/fighters.csv')"
   ]
  },
  {
   "cell_type": "code",
   "execution_count": null,
   "id": "d0f8d3aa",
   "metadata": {},
   "outputs": [
    {
     "data": {
      "text/html": [
       "<div>\n",
       "<style scoped>\n",
       "    .dataframe tbody tr th:only-of-type {\n",
       "        vertical-align: middle;\n",
       "    }\n",
       "\n",
       "    .dataframe tbody tr th {\n",
       "        vertical-align: top;\n",
       "    }\n",
       "\n",
       "    .dataframe thead th {\n",
       "        text-align: right;\n",
       "    }\n",
       "</style>\n",
       "<table border=\"1\" class=\"dataframe\">\n",
       "  <thead>\n",
       "    <tr style=\"text-align: right;\">\n",
       "      <th></th>\n",
       "      <th>First</th>\n",
       "      <th>Last</th>\n",
       "      <th>Nickname</th>\n",
       "      <th>Ht.</th>\n",
       "      <th>Wt.</th>\n",
       "      <th>Reach</th>\n",
       "      <th>Stance</th>\n",
       "      <th>W</th>\n",
       "      <th>L</th>\n",
       "      <th>D</th>\n",
       "      <th>Belt</th>\n",
       "    </tr>\n",
       "  </thead>\n",
       "  <tbody>\n",
       "    <tr>\n",
       "      <th>0</th>\n",
       "      <td>Tom</td>\n",
       "      <td>Aaron</td>\n",
       "      <td>NaN</td>\n",
       "      <td>--</td>\n",
       "      <td>155 lbs.</td>\n",
       "      <td>--</td>\n",
       "      <td>NaN</td>\n",
       "      <td>5</td>\n",
       "      <td>3</td>\n",
       "      <td>0</td>\n",
       "      <td>NaN</td>\n",
       "    </tr>\n",
       "    <tr>\n",
       "      <th>1</th>\n",
       "      <td>Danny</td>\n",
       "      <td>Abbadi</td>\n",
       "      <td>The Assassin</td>\n",
       "      <td>5' 11\"</td>\n",
       "      <td>155 lbs.</td>\n",
       "      <td>--</td>\n",
       "      <td>Orthodox</td>\n",
       "      <td>4</td>\n",
       "      <td>6</td>\n",
       "      <td>0</td>\n",
       "      <td>NaN</td>\n",
       "    </tr>\n",
       "    <tr>\n",
       "      <th>2</th>\n",
       "      <td>Nariman</td>\n",
       "      <td>Abbasov</td>\n",
       "      <td>Bayraktar</td>\n",
       "      <td>5' 8\"</td>\n",
       "      <td>155 lbs.</td>\n",
       "      <td>66.0\"</td>\n",
       "      <td>Orthodox</td>\n",
       "      <td>28</td>\n",
       "      <td>4</td>\n",
       "      <td>0</td>\n",
       "      <td>NaN</td>\n",
       "    </tr>\n",
       "    <tr>\n",
       "      <th>3</th>\n",
       "      <td>Darion</td>\n",
       "      <td>Abbey</td>\n",
       "      <td>NaN</td>\n",
       "      <td>6' 2\"</td>\n",
       "      <td>265 lbs.</td>\n",
       "      <td>80.0\"</td>\n",
       "      <td>Orthodox</td>\n",
       "      <td>9</td>\n",
       "      <td>5</td>\n",
       "      <td>0</td>\n",
       "      <td>NaN</td>\n",
       "    </tr>\n",
       "    <tr>\n",
       "      <th>4</th>\n",
       "      <td>David</td>\n",
       "      <td>Abbott</td>\n",
       "      <td>Tank</td>\n",
       "      <td>6' 0\"</td>\n",
       "      <td>265 lbs.</td>\n",
       "      <td>--</td>\n",
       "      <td>Switch</td>\n",
       "      <td>10</td>\n",
       "      <td>15</td>\n",
       "      <td>0</td>\n",
       "      <td>NaN</td>\n",
       "    </tr>\n",
       "  </tbody>\n",
       "</table>\n",
       "</div>"
      ],
      "text/plain": [
       "     First     Last      Nickname     Ht.       Wt.  Reach    Stance   W   L  \\\n",
       "0      Tom    Aaron           NaN      --  155 lbs.     --       NaN   5   3   \n",
       "1    Danny   Abbadi  The Assassin  5' 11\"  155 lbs.     --  Orthodox   4   6   \n",
       "2  Nariman  Abbasov     Bayraktar   5' 8\"  155 lbs.  66.0\"  Orthodox  28   4   \n",
       "3   Darion    Abbey           NaN   6' 2\"  265 lbs.  80.0\"  Orthodox   9   5   \n",
       "4    David   Abbott          Tank   6' 0\"  265 lbs.     --    Switch  10  15   \n",
       "\n",
       "   D  Belt  \n",
       "0  0   NaN  \n",
       "1  0   NaN  \n",
       "2  0   NaN  \n",
       "3  0   NaN  \n",
       "4  0   NaN  "
      ]
     },
     "execution_count": 19,
     "metadata": {},
     "output_type": "execute_result"
    }
   ],
   "source": [
    "fighters_df.head()"
   ]
  },
  {
   "cell_type": "code",
   "execution_count": 79,
   "id": "8bf92f42",
   "metadata": {},
   "outputs": [],
   "source": [
    "# print(len(\"================ Number of missing values for each columns ================\"))\n",
    "def print_missing_values(df):\n",
    "    print(\"================ Number of missing values for each columns ================\")\n",
    "    for col in df.columns.tolist():\n",
    "        print(f'{col} : {df[col].isna().sum()}')\n",
    "    print(\"=\"*75)"
   ]
  },
  {
   "cell_type": "code",
   "execution_count": 80,
   "id": "e421823c",
   "metadata": {},
   "outputs": [
    {
     "name": "stdout",
     "output_type": "stream",
     "text": [
      "================ Number of missing values for each columns ================\n",
      "First : 11\n",
      "Last : 0\n",
      "Nickname : 1590\n",
      "Ht. : 315\n",
      "Wt. : 74\n",
      "Reach : 1618\n",
      "Stance : 734\n",
      "W : 0\n",
      "L : 0\n",
      "D : 0\n",
      "Belt : 3567\n",
      "===========================================================================\n"
     ]
    }
   ],
   "source": [
    "print_missing_values(fighters_df)"
   ]
  },
  {
   "cell_type": "code",
   "execution_count": 83,
   "id": "ab8ac47e",
   "metadata": {},
   "outputs": [],
   "source": [
    "def check_types(df):\n",
    "    print(df.dtypes)"
   ]
  },
  {
   "cell_type": "code",
   "execution_count": 85,
   "id": "7a4b15b7",
   "metadata": {},
   "outputs": [
    {
     "name": "stdout",
     "output_type": "stream",
     "text": [
      "First         object\n",
      "Last          object\n",
      "Nickname      object\n",
      "Ht.          float32\n",
      "Wt.          float32\n",
      "Reach        float32\n",
      "Stance      category\n",
      "W              int32\n",
      "L              int32\n",
      "D              int32\n",
      "Belt         float64\n",
      "dtype: object\n"
     ]
    }
   ],
   "source": [
    "check_types(fighters_df)"
   ]
  },
  {
   "cell_type": "code",
   "execution_count": 21,
   "id": "3284bd7e",
   "metadata": {},
   "outputs": [],
   "source": [
    "# Ht. column\n",
    "def format_height(height=\"\"):\n",
    "    if height == '--':\n",
    "        return np.nan\n",
    "    height = height.rstrip('\"')\n",
    "    height = height.replace(\"' \", \".\")\n",
    "    return height\n",
    "\n",
    "\n",
    "fighters_df['Ht.'] = fighters_df['Ht.'].apply(format_height)\n",
    "fighters_df['Ht.'] = fighters_df['Ht.'].astype('float32')"
   ]
  },
  {
   "cell_type": "code",
   "execution_count": 27,
   "id": "5e377af3",
   "metadata": {},
   "outputs": [],
   "source": [
    "# Wt. column\n",
    "def format_weight(height=\"\"):\n",
    "    if height == '--':\n",
    "        return np.nan\n",
    "    height = height.rstrip(' lbs.')\n",
    "    return height\n",
    "\n",
    "\n",
    "fighters_df['Wt.'] = fighters_df['Wt.'].apply(format_weight)\n",
    "fighters_df['Wt.'] = fighters_df['Wt.'].astype('float32')"
   ]
  },
  {
   "cell_type": "code",
   "execution_count": null,
   "id": "285de160",
   "metadata": {},
   "outputs": [],
   "source": [
    "# Reach column\n",
    "def format_reach(height=\"\"):\n",
    "    if height == '--':\n",
    "        return np.nan\n",
    "    height = height.rstrip('\"')\n",
    "    return height\n",
    "\n",
    "\n",
    "fighters_df['Reach'] = fighters_df['Reach'].apply(format_reach)\n",
    "fighters_df['Reach'] = fighters_df['Reach'].astype('float32')"
   ]
  },
  {
   "cell_type": "code",
   "execution_count": 42,
   "id": "2ed9d40a",
   "metadata": {},
   "outputs": [],
   "source": [
    "# Making stance column categorical\n",
    "fighters_df['Stance'] = fighters_df['Stance'].astype('category')"
   ]
  },
  {
   "cell_type": "code",
   "execution_count": 37,
   "id": "edf0817f",
   "metadata": {},
   "outputs": [],
   "source": [
    "# W - L - D can not be so big.\n",
    "# It is better to make them only 32-bits\n",
    "for col in ['W','L','D'] : \n",
    "    fighters_df[col] = fighters_df[col].astype('int32')"
   ]
  },
  {
   "cell_type": "code",
   "execution_count": 41,
   "id": "c7ad2988",
   "metadata": {},
   "outputs": [
    {
     "data": {
      "text/html": [
       "<div>\n",
       "<style scoped>\n",
       "    .dataframe tbody tr th:only-of-type {\n",
       "        vertical-align: middle;\n",
       "    }\n",
       "\n",
       "    .dataframe tbody tr th {\n",
       "        vertical-align: top;\n",
       "    }\n",
       "\n",
       "    .dataframe thead th {\n",
       "        text-align: right;\n",
       "    }\n",
       "</style>\n",
       "<table border=\"1\" class=\"dataframe\">\n",
       "  <thead>\n",
       "    <tr style=\"text-align: right;\">\n",
       "      <th></th>\n",
       "      <th>First</th>\n",
       "      <th>Last</th>\n",
       "      <th>Nickname</th>\n",
       "      <th>Ht.</th>\n",
       "      <th>Wt.</th>\n",
       "      <th>Reach</th>\n",
       "      <th>Stance</th>\n",
       "      <th>W</th>\n",
       "      <th>L</th>\n",
       "      <th>D</th>\n",
       "      <th>Belt</th>\n",
       "    </tr>\n",
       "  </thead>\n",
       "  <tbody>\n",
       "    <tr>\n",
       "      <th>0</th>\n",
       "      <td>Tom</td>\n",
       "      <td>Aaron</td>\n",
       "      <td>NaN</td>\n",
       "      <td>NaN</td>\n",
       "      <td>155.0</td>\n",
       "      <td>NaN</td>\n",
       "      <td>NaN</td>\n",
       "      <td>5</td>\n",
       "      <td>3</td>\n",
       "      <td>0</td>\n",
       "      <td>NaN</td>\n",
       "    </tr>\n",
       "    <tr>\n",
       "      <th>1</th>\n",
       "      <td>Danny</td>\n",
       "      <td>Abbadi</td>\n",
       "      <td>The Assassin</td>\n",
       "      <td>5.11</td>\n",
       "      <td>155.0</td>\n",
       "      <td>NaN</td>\n",
       "      <td>Orthodox</td>\n",
       "      <td>4</td>\n",
       "      <td>6</td>\n",
       "      <td>0</td>\n",
       "      <td>NaN</td>\n",
       "    </tr>\n",
       "    <tr>\n",
       "      <th>2</th>\n",
       "      <td>Nariman</td>\n",
       "      <td>Abbasov</td>\n",
       "      <td>Bayraktar</td>\n",
       "      <td>5.80</td>\n",
       "      <td>155.0</td>\n",
       "      <td>66.0</td>\n",
       "      <td>Orthodox</td>\n",
       "      <td>28</td>\n",
       "      <td>4</td>\n",
       "      <td>0</td>\n",
       "      <td>NaN</td>\n",
       "    </tr>\n",
       "    <tr>\n",
       "      <th>3</th>\n",
       "      <td>Darion</td>\n",
       "      <td>Abbey</td>\n",
       "      <td>NaN</td>\n",
       "      <td>6.20</td>\n",
       "      <td>265.0</td>\n",
       "      <td>80.0</td>\n",
       "      <td>Orthodox</td>\n",
       "      <td>9</td>\n",
       "      <td>5</td>\n",
       "      <td>0</td>\n",
       "      <td>NaN</td>\n",
       "    </tr>\n",
       "    <tr>\n",
       "      <th>4</th>\n",
       "      <td>David</td>\n",
       "      <td>Abbott</td>\n",
       "      <td>Tank</td>\n",
       "      <td>6.00</td>\n",
       "      <td>265.0</td>\n",
       "      <td>NaN</td>\n",
       "      <td>Switch</td>\n",
       "      <td>10</td>\n",
       "      <td>15</td>\n",
       "      <td>0</td>\n",
       "      <td>NaN</td>\n",
       "    </tr>\n",
       "  </tbody>\n",
       "</table>\n",
       "</div>"
      ],
      "text/plain": [
       "     First     Last      Nickname   Ht.    Wt.  Reach    Stance   W   L  D  \\\n",
       "0      Tom    Aaron           NaN   NaN  155.0    NaN       NaN   5   3  0   \n",
       "1    Danny   Abbadi  The Assassin  5.11  155.0    NaN  Orthodox   4   6  0   \n",
       "2  Nariman  Abbasov     Bayraktar  5.80  155.0   66.0  Orthodox  28   4  0   \n",
       "3   Darion    Abbey           NaN  6.20  265.0   80.0  Orthodox   9   5  0   \n",
       "4    David   Abbott          Tank  6.00  265.0    NaN    Switch  10  15  0   \n",
       "\n",
       "   Belt  \n",
       "0   NaN  \n",
       "1   NaN  \n",
       "2   NaN  \n",
       "3   NaN  \n",
       "4   NaN  "
      ]
     },
     "execution_count": 41,
     "metadata": {},
     "output_type": "execute_result"
    }
   ],
   "source": [
    "fighters_df.head()"
   ]
  },
  {
   "cell_type": "markdown",
   "id": "bc9f0b2a",
   "metadata": {},
   "source": [
    "I think this is enough for cleaning fighters data"
   ]
  },
  {
   "cell_type": "code",
   "execution_count": 52,
   "id": "7f53cc21",
   "metadata": {},
   "outputs": [],
   "source": [
    "fighters_df.to_csv('data/Fighters.csv')"
   ]
  },
  {
   "cell_type": "markdown",
   "id": "dd77db98",
   "metadata": {},
   "source": [
    "### CLeaning Events Data\n"
   ]
  },
  {
   "cell_type": "code",
   "execution_count": 87,
   "id": "eb4eb717",
   "metadata": {},
   "outputs": [
    {
     "data": {
      "text/html": [
       "<div>\n",
       "<style scoped>\n",
       "    .dataframe tbody tr th:only-of-type {\n",
       "        vertical-align: middle;\n",
       "    }\n",
       "\n",
       "    .dataframe tbody tr th {\n",
       "        vertical-align: top;\n",
       "    }\n",
       "\n",
       "    .dataframe thead th {\n",
       "        text-align: right;\n",
       "    }\n",
       "</style>\n",
       "<table border=\"1\" class=\"dataframe\">\n",
       "  <thead>\n",
       "    <tr style=\"text-align: right;\">\n",
       "      <th></th>\n",
       "      <th>Event_Id</th>\n",
       "      <th>Name</th>\n",
       "      <th>Date</th>\n",
       "      <th>Location</th>\n",
       "    </tr>\n",
       "  </thead>\n",
       "  <tbody>\n",
       "    <tr>\n",
       "      <th>0</th>\n",
       "      <td>754968e325d6f60d</td>\n",
       "      <td>UFC Fight Night: Walker vs. Zhang</td>\n",
       "      <td>August 23, 2025</td>\n",
       "      <td>Shanghai, Hebei, China</td>\n",
       "    </tr>\n",
       "    <tr>\n",
       "      <th>1</th>\n",
       "      <td>421ccfc6ddb17958</td>\n",
       "      <td>UFC 319: Du Plessis vs. Chimaev</td>\n",
       "      <td>August 16, 2025</td>\n",
       "      <td>Chicago, Illinois, USA</td>\n",
       "    </tr>\n",
       "    <tr>\n",
       "      <th>2</th>\n",
       "      <td>6cd3dfc54f01287f</td>\n",
       "      <td>UFC Fight Night: Dolidze vs. Hernandez</td>\n",
       "      <td>August 09, 2025</td>\n",
       "      <td>Las Vegas, Nevada, USA</td>\n",
       "    </tr>\n",
       "    <tr>\n",
       "      <th>3</th>\n",
       "      <td>f2c934689243fe4e</td>\n",
       "      <td>UFC Fight Night: Taira vs. Park</td>\n",
       "      <td>August 02, 2025</td>\n",
       "      <td>Las Vegas, Nevada, USA</td>\n",
       "    </tr>\n",
       "    <tr>\n",
       "      <th>4</th>\n",
       "      <td>28d8638ea0a71908</td>\n",
       "      <td>UFC Fight Night: Whittaker vs. De Ridder</td>\n",
       "      <td>July 26, 2025</td>\n",
       "      <td>Abu Dhabi, Abu Dhabi, United Arab Emirates</td>\n",
       "    </tr>\n",
       "  </tbody>\n",
       "</table>\n",
       "</div>"
      ],
      "text/plain": [
       "           Event_Id                                      Name  \\\n",
       "0  754968e325d6f60d         UFC Fight Night: Walker vs. Zhang   \n",
       "1  421ccfc6ddb17958           UFC 319: Du Plessis vs. Chimaev   \n",
       "2  6cd3dfc54f01287f    UFC Fight Night: Dolidze vs. Hernandez   \n",
       "3  f2c934689243fe4e           UFC Fight Night: Taira vs. Park   \n",
       "4  28d8638ea0a71908  UFC Fight Night: Whittaker vs. De Ridder   \n",
       "\n",
       "              Date                                    Location  \n",
       "0  August 23, 2025                      Shanghai, Hebei, China  \n",
       "1  August 16, 2025                      Chicago, Illinois, USA  \n",
       "2  August 09, 2025                      Las Vegas, Nevada, USA  \n",
       "3  August 02, 2025                      Las Vegas, Nevada, USA  \n",
       "4    July 26, 2025  Abu Dhabi, Abu Dhabi, United Arab Emirates  "
      ]
     },
     "execution_count": 87,
     "metadata": {},
     "output_type": "execute_result"
    }
   ],
   "source": [
    "events_df = pd.read_csv('raw_data/raw_events.csv')\n",
    "events_df.head()"
   ]
  },
  {
   "cell_type": "code",
   "execution_count": 84,
   "id": "cdf10206",
   "metadata": {},
   "outputs": [
    {
     "name": "stdout",
     "output_type": "stream",
     "text": [
      "Event_Id    object\n",
      "Name        object\n",
      "Date        object\n",
      "Location    object\n",
      "dtype: object\n"
     ]
    }
   ],
   "source": [
    "check_types(events_df)"
   ]
  },
  {
   "cell_type": "code",
   "execution_count": 86,
   "id": "020850a1",
   "metadata": {},
   "outputs": [
    {
     "name": "stdout",
     "output_type": "stream",
     "text": [
      "================ Number of missing values for each columns ================\n",
      "Event_Id : 0\n",
      "Name : 0\n",
      "Date : 0\n",
      "Location : 0\n",
      "===========================================================================\n"
     ]
    }
   ],
   "source": [
    "print_missing_values(events_df)"
   ]
  },
  {
   "cell_type": "markdown",
   "id": "11b9dd52",
   "metadata": {},
   "source": [
    "! Perfect"
   ]
  },
  {
   "cell_type": "code",
   "execution_count": 92,
   "id": "003e47c6",
   "metadata": {},
   "outputs": [
    {
     "data": {
      "text/html": [
       "<div>\n",
       "<style scoped>\n",
       "    .dataframe tbody tr th:only-of-type {\n",
       "        vertical-align: middle;\n",
       "    }\n",
       "\n",
       "    .dataframe tbody tr th {\n",
       "        vertical-align: top;\n",
       "    }\n",
       "\n",
       "    .dataframe thead th {\n",
       "        text-align: right;\n",
       "    }\n",
       "</style>\n",
       "<table border=\"1\" class=\"dataframe\">\n",
       "  <thead>\n",
       "    <tr style=\"text-align: right;\">\n",
       "      <th></th>\n",
       "      <th>Event_Id</th>\n",
       "      <th>Name</th>\n",
       "      <th>Date</th>\n",
       "      <th>Location</th>\n",
       "    </tr>\n",
       "  </thead>\n",
       "  <tbody>\n",
       "    <tr>\n",
       "      <th>0</th>\n",
       "      <td>754968e325d6f60d</td>\n",
       "      <td>UFC Fight Night: Walker vs. Zhang</td>\n",
       "      <td>2025-08-23</td>\n",
       "      <td>Shanghai, Hebei, China</td>\n",
       "    </tr>\n",
       "    <tr>\n",
       "      <th>1</th>\n",
       "      <td>421ccfc6ddb17958</td>\n",
       "      <td>UFC 319: Du Plessis vs. Chimaev</td>\n",
       "      <td>2025-08-16</td>\n",
       "      <td>Chicago, Illinois, USA</td>\n",
       "    </tr>\n",
       "    <tr>\n",
       "      <th>2</th>\n",
       "      <td>6cd3dfc54f01287f</td>\n",
       "      <td>UFC Fight Night: Dolidze vs. Hernandez</td>\n",
       "      <td>2025-08-09</td>\n",
       "      <td>Las Vegas, Nevada, USA</td>\n",
       "    </tr>\n",
       "    <tr>\n",
       "      <th>3</th>\n",
       "      <td>f2c934689243fe4e</td>\n",
       "      <td>UFC Fight Night: Taira vs. Park</td>\n",
       "      <td>2025-08-02</td>\n",
       "      <td>Las Vegas, Nevada, USA</td>\n",
       "    </tr>\n",
       "    <tr>\n",
       "      <th>4</th>\n",
       "      <td>28d8638ea0a71908</td>\n",
       "      <td>UFC Fight Night: Whittaker vs. De Ridder</td>\n",
       "      <td>2025-07-26</td>\n",
       "      <td>Abu Dhabi, Abu Dhabi, United Arab Emirates</td>\n",
       "    </tr>\n",
       "  </tbody>\n",
       "</table>\n",
       "</div>"
      ],
      "text/plain": [
       "           Event_Id                                      Name       Date  \\\n",
       "0  754968e325d6f60d         UFC Fight Night: Walker vs. Zhang 2025-08-23   \n",
       "1  421ccfc6ddb17958           UFC 319: Du Plessis vs. Chimaev 2025-08-16   \n",
       "2  6cd3dfc54f01287f    UFC Fight Night: Dolidze vs. Hernandez 2025-08-09   \n",
       "3  f2c934689243fe4e           UFC Fight Night: Taira vs. Park 2025-08-02   \n",
       "4  28d8638ea0a71908  UFC Fight Night: Whittaker vs. De Ridder 2025-07-26   \n",
       "\n",
       "                                     Location  \n",
       "0                      Shanghai, Hebei, China  \n",
       "1                      Chicago, Illinois, USA  \n",
       "2                      Las Vegas, Nevada, USA  \n",
       "3                      Las Vegas, Nevada, USA  \n",
       "4  Abu Dhabi, Abu Dhabi, United Arab Emirates  "
      ]
     },
     "execution_count": 92,
     "metadata": {},
     "output_type": "execute_result"
    }
   ],
   "source": [
    "events_df['Date'] = pd.to_datetime(events_df['Date'], format=\"%B %d, %Y\")\n",
    "events_df.head()"
   ]
  }
 ],
 "metadata": {
  "kernelspec": {
   "display_name": "PE-classifier",
   "language": "python",
   "name": "python3"
  },
  "language_info": {
   "codemirror_mode": {
    "name": "ipython",
    "version": 3
   },
   "file_extension": ".py",
   "mimetype": "text/x-python",
   "name": "python",
   "nbconvert_exporter": "python",
   "pygments_lexer": "ipython3",
   "version": "3.13.5"
  }
 },
 "nbformat": 4,
 "nbformat_minor": 5
}
